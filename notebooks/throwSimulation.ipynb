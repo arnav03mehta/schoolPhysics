{
  "nbformat": 4,
  "nbformat_minor": 0,
  "metadata": {
    "colab": {
      "name": "throwSimulation.ipynb",
      "provenance": [],
      "authorship_tag": "ABX9TyPlQ2LStyXuwRVEAi7Jpsli",
      "include_colab_link": true
    },
    "kernelspec": {
      "name": "python3",
      "display_name": "Python 3"
    }
  },
  "cells": [
    {
      "cell_type": "markdown",
      "metadata": {
        "id": "view-in-github",
        "colab_type": "text"
      },
      "source": [
        "<a href=\"https://colab.research.google.com/github/arnav03mehta/schoolPhysics/blob/master/notebooks/throwSimulation.ipynb\" target=\"_parent\"><img src=\"https://colab.research.google.com/assets/colab-badge.svg\" alt=\"Open In Colab\"/></a>"
      ]
    },
    {
      "cell_type": "markdown",
      "metadata": {
        "id": "ZB4Dpk3fZ6-M",
        "colab_type": "text"
      },
      "source": [
        "<center>\n",
        "<h1> Physics art-integration project </h1>\n",
        "<h4>for the month of august 2020</h4>\n",
        "by Arnav Mehta\n"
      ]
    },
    {
      "cell_type": "code",
      "metadata": {
        "id": "wcf8F9gzVk_1",
        "colab_type": "code",
        "colab": {}
      },
      "source": [
        "import math\n",
        "import matplotlib.pyplot as plt\n",
        "import numpy as np\n",
        "\n",
        "\n",
        "class thing :\n",
        "\n",
        "    def __init__(self,mass=0.001) :\n",
        "        self.mass = mass \n",
        "        self.weight = mass*9.8\n",
        "\n",
        "    def throw_from_ground(self,velocity,angle_in_deg=0,angle_in_rad=0) :\n",
        "        if angle_in_rad == 0 and angle_in_deg != 0 :\n",
        "            angle = math.radians(angle_in_deg)\n",
        "        else :\n",
        "            angle = angle_in_rad\n",
        "        x_pos = lambda t : velocity*math.cos(angle) * t\n",
        "        y_pos = lambda t : (velocity*math.sin(angle)*t)-((9.8*(t**2))/2)\n",
        "        T = 2*velocity*math.sin(angle) / 9.8\n",
        "        xList = [ x_pos(i) for i in np.arange(0,T,0.01) ]\n",
        "        yList = [ y_pos(i) for i in np.arange(0,T,0.01) ]\n",
        "        max_height = (velocity**2)*math.sin(2*angle)/9.8\n",
        "        max_dist = (velocity**2)*(math.sin(angle)**2)/(2*9.8)\n",
        "        plt.plot(xList,yList)\n",
        "        \n",
        "        print()\n",
        "        print(f\"Total time in air(in seconds) : {T}\")\n",
        "        print(f\"Max horizontal distance(in meters) : { max_height }\")\n",
        "        print(f\"Max height reached(in meters) : { max_dist }\")\n",
        "        \n",
        "        if max_height > max_dist :\n",
        "            plt.ylim([0,max_height])\n",
        "        else :\n",
        "            plt.xlim([0,max_dist])\n",
        "\n",
        "        plt.show()\n",
        "\n",
        "    def throw_horizontally(self,velocity,height) :\n",
        "        \n",
        "        x_pos = lambda t : velocity * t\n",
        "        y_pos = lambda t : height - ((9.8*(t**2))/(2*(velocity**2))) \n",
        "        T = (2*height/9.8)**(1/2)\n",
        "\n",
        "        xList = [ x_pos(i) for i in np.arange(0,T,0.0001) ]\n",
        "        yList = [ y_pos(i) for i in np.arange(0,T,0.0001) ]\n",
        "        max_dist = velocity*T\n",
        "        print(f\"Total time in air : {T}\")\n",
        "        print(f\"Max horizontal distance : { max_dist }\")\n",
        "        print(yList)\n",
        "        \n",
        "        plt.plot(xList,yList)\n",
        "        if height > max_dist :\n",
        "            plt.ylim([0,height])\n",
        "        else :\n",
        "            plt.xlim([0,max_dist])\n",
        "        plt.show()"
      ],
      "execution_count": 10,
      "outputs": []
    },
    {
      "cell_type": "code",
      "metadata": {
        "id": "JT8GxHq3XqBX",
        "colab_type": "code",
        "colab": {
          "base_uri": "https://localhost:8080/",
          "height": 377
        },
        "outputId": "44d7e750-578b-4427-e7e5-e0e7905ea953"
      },
      "source": [
        "v = int(input(\"how much initial velocity(in m/s) do you want? : \"))\n",
        "d = int(input(\"at what angle(in degree) you want to throw at? : \"))\n",
        "thing().throw_from_ground(v,angle_in_deg=d)"
      ],
      "execution_count": 11,
      "outputs": [
        {
          "output_type": "stream",
          "text": [
            "how much initial velocity(in m/s) do you want? : 40\n",
            "at what angle(in degree) you want to throw at? : 50\n",
            "\n",
            "Total time in air(in seconds) : 6.253424025461045\n",
            "Max horizontal distance(in meters) : 160.78493926729925\n",
            "Max height reached(in meters) : 47.90400725171144\n"
          ],
          "name": "stdout"
        },
        {
          "output_type": "display_data",
          "data": {
            "image/png": "[encoded data removed]",
            "text/plain": [
              "<Figure size 432x288 with 1 Axes>"
            ]
          },
          "metadata": {
            "tags": [],
            "needs_background": "light"
          }
        }
      ]
    },
    {
      "cell_type": "code",
      "metadata": {
        "id": "A6Kt0Nu2YHKW",
        "colab_type": "code",
        "colab": {}
      },
      "source": [
        ""
      ],
      "execution_count": null,
      "outputs": []
    }
  ]
}