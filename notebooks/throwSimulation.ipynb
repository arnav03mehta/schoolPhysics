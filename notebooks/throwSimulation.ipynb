{
  "nbformat": 4,
  "nbformat_minor": 0,
  "metadata": {
    "colab": {
      "name": "throwSimulation.ipynb",
      "provenance": [],
      "authorship_tag": "ABX9TyPU2+v62+/RUnBF+v9ho3EN",
      "include_colab_link": true
    },
    "kernelspec": {
      "name": "python3",
      "display_name": "Python 3"
    }
  },
  "cells": [
    {
      "cell_type": "markdown",
      "metadata": {
        "id": "view-in-github",
        "colab_type": "text"
      },
      "source": [
        "<a href=\"https://colab.research.google.com/github/arnav03mehta/schoolPhysics/blob/master/notebooks/throwSimulation.ipynb\" target=\"_parent\"><img src=\"https://colab.research.google.com/assets/colab-badge.svg\" alt=\"Open In Colab\"/></a>"
      ]
    },
    {
      "cell_type": "code",
      "metadata": {
        "id": "wcf8F9gzVk_1",
        "colab_type": "code",
        "colab": {}
      },
      "source": [
        "import math\n",
        "import matplotlib.pyplot as plt\n",
        "import numpy as np\n",
        "\n",
        "\n",
        "class thing :\n",
        "\n",
        "    def __init__(self,mass=0.001) :\n",
        "        self.mass = mass \n",
        "        self.weight = mass*9.8\n",
        "\n",
        "    def throw_from_ground(self,velocity,angle_in_deg=0,angle_in_rad=0) :\n",
        "        if angle_in_rad == 0 and angle_in_deg != 0 :\n",
        "            angle = math.radians(angle_in_deg)\n",
        "        else :\n",
        "            angle = angle_in_rad\n",
        "        x_pos = lambda t : velocity*math.cos(angle) * t\n",
        "        y_pos = lambda t : (velocity*math.sin(angle)*t)-((9.8*(t**2))/2)\n",
        "        T = 2*velocity*math.sin(angle) / 9.8\n",
        "        xList = [ x_pos(i) for i in np.arange(0,T,0.01) ]\n",
        "        yList = [ y_pos(i) for i in np.arange(0,T,0.01) ]\n",
        "        max_height = (velocity**2)*math.sin(2*angle)/9.8\n",
        "        max_dist = (velocity**2)*(math.sin(angle)**2)/(2*9.8)\n",
        "        plt.plot(xList,yList)\n",
        "        \n",
        "        print()\n",
        "        print(f\"Total time in air(in seconds) : {T}\")\n",
        "        print(f\"Max horizontal distance(in meters) : { max_height }\")\n",
        "        print(f\"Max height reached(in meters) : { max_dist }\")\n",
        "        \n",
        "        if max_height > max_dist :\n",
        "            plt.ylim([0,max_height])\n",
        "        else :\n",
        "            plt.xlim([0,max_dist])\n",
        "\n",
        "        plt.show()\n",
        "\n",
        "    def throw_horizontally(self,velocity,height) :\n",
        "        \n",
        "        x_pos = lambda t : velocity * t\n",
        "        y_pos = lambda t : height - ((9.8*(t**2))/(2*(velocity**2))) \n",
        "        T = (2*height/9.8)**(1/2)\n",
        "\n",
        "        xList = [ x_pos(i) for i in np.arange(0,T,0.0001) ]\n",
        "        yList = [ y_pos(i) for i in np.arange(0,T,0.0001) ]\n",
        "        max_dist = velocity*T\n",
        "        print(f\"Total time in air : {T}\")\n",
        "        print(f\"Max horizontal distance : { max_dist }\")\n",
        "        print(yList)\n",
        "        \n",
        "        plt.plot(xList,yList)\n",
        "        if height > max_dist :\n",
        "            plt.ylim([0,height])\n",
        "        else :\n",
        "            plt.xlim([0,max_dist])\n",
        "        plt.show()"
      ],
      "execution_count": 8,
      "outputs": []
    },
    {
      "cell_type": "code",
      "metadata": {
        "id": "JT8GxHq3XqBX",
        "colab_type": "code",
        "colab": {
          "base_uri": "https://localhost:8080/",
          "height": 374
        },
        "outputId": "3474978f-7231-422d-ae91-bac794ce4b51"
      },
      "source": [
        "thing().throw_from_ground(int(input(\"how much initial velocity(in m/s) do you want? : \")),angle_in_deg=int(input(\"at what angle(in degree) you want to throw at? : \")))"
      ],
      "execution_count": 9,
      "outputs": [
        {
          "output_type": "stream",
          "text": [
            "how much initial velocity(in m/s) do you want? : 30\n",
            "at what angle(in degree) you want to throw at? : 60\n",
            "\n",
            "Total time in air(in seconds) : 5.302196349700644\n",
            "Max horizontal distance(in meters) : 79.53294524550967\n",
            "Max height reached(in meters) : 34.438775510204074\n"
          ],
          "name": "stdout"
        },
        {
          "output_type": "display_data",
          "data": {
            "image/png": "[encoded data removed]",
            "text/plain": [
              "<Figure size 432x288 with 1 Axes>"
            ]
          },
          "metadata": {
            "tags": [],
            "needs_background": "light"
          }
        }
      ]
    },
    {
      "cell_type": "code",
      "metadata": {
        "id": "A6Kt0Nu2YHKW",
        "colab_type": "code",
        "colab": {}
      },
      "source": [
        ""
      ],
      "execution_count": null,
      "outputs": []
    }
  ]
}